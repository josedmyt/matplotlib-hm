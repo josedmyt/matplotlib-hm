{
 "cells": [
  {
   "cell_type": "markdown",
   "metadata": {},
   "source": [
    "## Observations and Insights"
   ]
  },
  {
   "cell_type": "markdown",
   "metadata": {},
   "source": [
    "We can see qualitatively that is an outlier in the final tumor volumes in the drug regimen infubinol and that it lies below the majority of the data. Then quantitatively using the 1.5iqr rule we confirm this by showing that the only mouse that lies outside the upper and lower bound is indeed for infubinol and its mouse \"c326\" with a final tumor volume of 36.321346\n",
    "\n",
    "We can also note from the bar graphs that ramicane and capomulin have almost 50 more data point than all the other regimens and that propriva has the least. We may also note that the spread between male and female mice is very well with an insignificant difference of 1%.\n",
    "\n",
    "Finally, we can see from the scatter plot that there is a clear positive correlation between tumor volume and weight of the mice for the capomulin regimen"
   ]
  },
  {
   "cell_type": "markdown",
   "metadata": {},
   "source": [
    "## Dependencies and starter code"
   ]
  },
  {
   "cell_type": "code",
   "execution_count": 17,
   "metadata": {},
   "outputs": [],
   "source": [
    "# Dependencies and Setup\n",
    "import matplotlib.pyplot as plt\n",
    "import pandas as pd\n",
    "import scipy.stats as st\n",
    "import numpy as np\n",
    "\n",
    "# Study data files\n",
    "mouse_metadata = \"data/Mouse_metadata.csv\"\n",
    "study_results = \"data/Study_results.csv\"\n",
    "\n",
    "# Read the mouse data and the study results\n",
    "mouse_metadata = pd.read_csv(mouse_metadata)\n",
    "study_results = pd.read_csv(study_results)\n",
    "\n",
    "# Combine the data into a single dataset\n",
    "mouse_data= pd.merge(mouse_metadata,study_results, on=\"Mouse ID\")"
   ]
  },
  {
   "cell_type": "markdown",
   "metadata": {},
   "source": [
    "## Summary statistics"
   ]
  },
  {
   "cell_type": "code",
   "execution_count": 2,
   "metadata": {},
   "outputs": [
    {
     "data": {
      "text/html": [
       "<div>\n",
       "<style scoped>\n",
       "    .dataframe tbody tr th:only-of-type {\n",
       "        vertical-align: middle;\n",
       "    }\n",
       "\n",
       "    .dataframe tbody tr th {\n",
       "        vertical-align: top;\n",
       "    }\n",
       "\n",
       "    .dataframe thead th {\n",
       "        text-align: right;\n",
       "    }\n",
       "</style>\n",
       "<table border=\"1\" class=\"dataframe\">\n",
       "  <thead>\n",
       "    <tr style=\"text-align: right;\">\n",
       "      <th></th>\n",
       "      <th>Drug Regimen</th>\n",
       "      <th>Mean Tumor Volume</th>\n",
       "      <th>Median Tumor Volume</th>\n",
       "      <th>Mode Tumor Volume</th>\n",
       "      <th>Variance Tumor Volume</th>\n",
       "      <th>Standard Deviation Tumor Volume</th>\n",
       "      <th>Standard Error of the Mean</th>\n",
       "    </tr>\n",
       "  </thead>\n",
       "  <tbody>\n",
       "    <tr>\n",
       "      <th>0</th>\n",
       "      <td>Ramicane</td>\n",
       "      <td>40.216745</td>\n",
       "      <td>40.673236</td>\n",
       "      <td>([45.0], [25])</td>\n",
       "      <td>23.383692</td>\n",
       "      <td>4.835669</td>\n",
       "      <td>0.320955</td>\n",
       "    </tr>\n",
       "    <tr>\n",
       "      <th>1</th>\n",
       "      <td>Capomulin</td>\n",
       "      <td>40.675741</td>\n",
       "      <td>41.557809</td>\n",
       "      <td>([45.0], [25])</td>\n",
       "      <td>24.839296</td>\n",
       "      <td>4.983904</td>\n",
       "      <td>0.329346</td>\n",
       "    </tr>\n",
       "    <tr>\n",
       "      <th>2</th>\n",
       "      <td>Infubinol</td>\n",
       "      <td>52.884795</td>\n",
       "      <td>51.820584</td>\n",
       "      <td>([45.0], [25])</td>\n",
       "      <td>42.886388</td>\n",
       "      <td>6.548770</td>\n",
       "      <td>0.492236</td>\n",
       "    </tr>\n",
       "    <tr>\n",
       "      <th>3</th>\n",
       "      <td>Placebo</td>\n",
       "      <td>54.033581</td>\n",
       "      <td>52.288934</td>\n",
       "      <td>([45.0], [25])</td>\n",
       "      <td>60.830138</td>\n",
       "      <td>7.799368</td>\n",
       "      <td>0.581331</td>\n",
       "    </tr>\n",
       "    <tr>\n",
       "      <th>4</th>\n",
       "      <td>Ceftamin</td>\n",
       "      <td>52.591172</td>\n",
       "      <td>51.776157</td>\n",
       "      <td>([45.0], [25])</td>\n",
       "      <td>39.069446</td>\n",
       "      <td>6.250556</td>\n",
       "      <td>0.469821</td>\n",
       "    </tr>\n",
       "    <tr>\n",
       "      <th>5</th>\n",
       "      <td>Stelasyn</td>\n",
       "      <td>54.233149</td>\n",
       "      <td>52.431737</td>\n",
       "      <td>([45.0], [24])</td>\n",
       "      <td>59.122106</td>\n",
       "      <td>7.689090</td>\n",
       "      <td>0.573111</td>\n",
       "    </tr>\n",
       "    <tr>\n",
       "      <th>6</th>\n",
       "      <td>Zoniferol</td>\n",
       "      <td>53.236507</td>\n",
       "      <td>51.818479</td>\n",
       "      <td>([45.0], [25])</td>\n",
       "      <td>48.266689</td>\n",
       "      <td>6.947423</td>\n",
       "      <td>0.516398</td>\n",
       "    </tr>\n",
       "    <tr>\n",
       "      <th>7</th>\n",
       "      <td>Ketapril</td>\n",
       "      <td>55.235638</td>\n",
       "      <td>53.698743</td>\n",
       "      <td>([45.0], [25])</td>\n",
       "      <td>68.188930</td>\n",
       "      <td>8.257659</td>\n",
       "      <td>0.603860</td>\n",
       "    </tr>\n",
       "    <tr>\n",
       "      <th>8</th>\n",
       "      <td>Propriva</td>\n",
       "      <td>52.322552</td>\n",
       "      <td>50.854632</td>\n",
       "      <td>([45.0], [26])</td>\n",
       "      <td>42.088020</td>\n",
       "      <td>6.487528</td>\n",
       "      <td>0.512884</td>\n",
       "    </tr>\n",
       "    <tr>\n",
       "      <th>9</th>\n",
       "      <td>Naftisol</td>\n",
       "      <td>54.331565</td>\n",
       "      <td>52.509285</td>\n",
       "      <td>([45.0], [25])</td>\n",
       "      <td>65.817708</td>\n",
       "      <td>8.112811</td>\n",
       "      <td>0.596466</td>\n",
       "    </tr>\n",
       "  </tbody>\n",
       "</table>\n",
       "</div>"
      ],
      "text/plain": [
       "  Drug Regimen  Mean Tumor Volume  Median Tumor Volume Mode Tumor Volume  \\\n",
       "0     Ramicane          40.216745            40.673236    ([45.0], [25])   \n",
       "1    Capomulin          40.675741            41.557809    ([45.0], [25])   \n",
       "2    Infubinol          52.884795            51.820584    ([45.0], [25])   \n",
       "3      Placebo          54.033581            52.288934    ([45.0], [25])   \n",
       "4     Ceftamin          52.591172            51.776157    ([45.0], [25])   \n",
       "5     Stelasyn          54.233149            52.431737    ([45.0], [24])   \n",
       "6    Zoniferol          53.236507            51.818479    ([45.0], [25])   \n",
       "7     Ketapril          55.235638            53.698743    ([45.0], [25])   \n",
       "8     Propriva          52.322552            50.854632    ([45.0], [26])   \n",
       "9     Naftisol          54.331565            52.509285    ([45.0], [25])   \n",
       "\n",
       "   Variance Tumor Volume  Standard Deviation Tumor Volume  \\\n",
       "0              23.383692                         4.835669   \n",
       "1              24.839296                         4.983904   \n",
       "2              42.886388                         6.548770   \n",
       "3              60.830138                         7.799368   \n",
       "4              39.069446                         6.250556   \n",
       "5              59.122106                         7.689090   \n",
       "6              48.266689                         6.947423   \n",
       "7              68.188930                         8.257659   \n",
       "8              42.088020                         6.487528   \n",
       "9              65.817708                         8.112811   \n",
       "\n",
       "   Standard Error of the Mean  \n",
       "0                    0.320955  \n",
       "1                    0.329346  \n",
       "2                    0.492236  \n",
       "3                    0.581331  \n",
       "4                    0.469821  \n",
       "5                    0.573111  \n",
       "6                    0.516398  \n",
       "7                    0.603860  \n",
       "8                    0.512884  \n",
       "9                    0.596466  "
      ]
     },
     "execution_count": 2,
     "metadata": {},
     "output_type": "execute_result"
    }
   ],
   "source": [
    "# Generate a summary statistics table of mean, median, variance, standard deviation, and SEM of the tumor volume for each regimen\n",
    "drug_data = mouse_data[[\"Drug Regimen\", \"Tumor Volume (mm3)\"]]\n",
    "drug_regimen= mouse_data[\"Drug Regimen\"].unique()\n",
    "\n",
    "mean_tumorvolume = []\n",
    "median_tumorvolume=[]\n",
    "mode_tumorvolume=[]\n",
    "var_tumorvolume=[]\n",
    "std_tumorvolume=[]\n",
    "sem_tumorvolume=[]\n",
    "data_points=[]\n",
    "\n",
    "\n",
    "for regimen in drug_regimen:\n",
    "    data = drug_data.loc[(drug_data[\"Drug Regimen\"]==regimen)]\n",
    "    data_points.append(len(data))\n",
    "    mean_tumorvolume.append(data[\"Tumor Volume (mm3)\"].mean())    \n",
    "    median_tumorvolume.append(data[\"Tumor Volume (mm3)\"].median())\n",
    "    mode_tumorvolume.append(st.mode(data[\"Tumor Volume (mm3)\"]))\n",
    "    var_tumorvolume.append(np.var((data[\"Tumor Volume (mm3)\"])))\n",
    "    std_tumorvolume.append(np.std((data[\"Tumor Volume (mm3)\"])))\n",
    "    sem_tumorvolume.append(data[\"Tumor Volume (mm3)\"].sem())\n",
    "\n",
    "summary_plot = pd.DataFrame({\"Drug Regimen\":drug_regimen,\n",
    "                             \"Mean Tumor Volume\": mean_tumorvolume,\n",
    "                             \"Median Tumor Volume\": median_tumorvolume,\n",
    "                             \"Mode Tumor Volume\": mode_tumorvolume,\n",
    "                             \"Variance Tumor Volume\": var_tumorvolume,\n",
    "                             \"Standard Deviation Tumor Volume\": std_tumorvolume,\n",
    "                             \"Standard Error of the Mean\": sem_tumorvolume})\n",
    "summary_plot\n",
    "    "
   ]
  },
  {
   "cell_type": "markdown",
   "metadata": {},
   "source": [
    "## Bar plots"
   ]
  },
  {
   "cell_type": "code",
   "execution_count": 3,
   "metadata": {},
   "outputs": [
    {
     "data": {
      "text/plain": [
       "[Text(0, 0, 'Ramicane'),\n",
       " Text(0, 0, 'Capomulin'),\n",
       " Text(0, 0, 'Infubinol'),\n",
       " Text(0, 0, 'Placebo'),\n",
       " Text(0, 0, 'Ceftamin'),\n",
       " Text(0, 0, 'Stelasyn'),\n",
       " Text(0, 0, 'Zoniferol'),\n",
       " Text(0, 0, 'Ketapril'),\n",
       " Text(0, 0, 'Propriva'),\n",
       " Text(0, 0, 'Naftisol')]"
      ]
     },
     "execution_count": 3,
     "metadata": {},
     "output_type": "execute_result"
    },
    {
     "data": {
      "image/png": "[encoded data removed]",
      "text/plain": [
       "<Figure size 432x288 with 1 Axes>"
      ]
     },
     "metadata": {
      "needs_background": "light"
     },
     "output_type": "display_data"
    }
   ],
   "source": [
    "# Generate a bar plot showing number of data points for each treatment regimen using pandas\n",
    "bar_pd =pd.DataFrame({\"Drug Regimen\": drug_regimen, \"Number of Data Points\": data_points})\n",
    "bar_pd.plot(kind= \"bar\",legend=False, title=\"Data Points per Treatmen Regimen\").set_xticklabels(drug_regimen, rotation=\"vertical\")"
   ]
  },
  {
   "cell_type": "code",
   "execution_count": 4,
   "metadata": {},
   "outputs": [
    {
     "data": {
      "image/png": "[encoded data removed]",
      "text/plain": [
       "<Figure size 432x288 with 1 Axes>"
      ]
     },
     "metadata": {
      "needs_background": "light"
     },
     "output_type": "display_data"
    }
   ],
   "source": [
    "# Generate a bar plot showing number of data points for each treatment regimen using pyplot\n",
    "plt.bar(drug_regimen, data_points,align=\"center\")\n",
    "ticks= [value for value in drug_regimen]\n",
    "plt.xticks(ticks, ticks, rotation= \"vertical\")\n",
    "plt.title(\"Data Points per Treatmen Regimen\")\n",
    "plt.show()"
   ]
  },
  {
   "cell_type": "markdown",
   "metadata": {},
   "source": [
    "## Pie plots"
   ]
  },
  {
   "cell_type": "code",
   "execution_count": 5,
   "metadata": {},
   "outputs": [
    {
     "data": {
      "image/png": "[encoded data removed]",
      "text/plain": [
       "<Figure size 432x288 with 1 Axes>"
      ]
     },
     "metadata": {},
     "output_type": "display_data"
    }
   ],
   "source": [
    "# Generate a pie plot showing the distribution of female versus male mice using pyplot\n",
    "sizes =mouse_data[\"Sex\"].value_counts()\n",
    "labels = [\"Male\", \"Female\"]\n",
    "colors = (\"green\", \"red\")\n",
    "plt.pie(sizes,labels=labels, colors=colors, autopct=\"%1.1f%%\",shadow=True, startangle=140)\n",
    "plt.show()"
   ]
  },
  {
   "cell_type": "code",
   "execution_count": 6,
   "metadata": {},
   "outputs": [
    {
     "data": {
      "text/plain": [
       "<matplotlib.axes._subplots.AxesSubplot at 0x2c65ba38940>"
      ]
     },
     "execution_count": 6,
     "metadata": {},
     "output_type": "execute_result"
    },
    {
     "data": {
      "image/png": "[encoded data removed]",
      "text/plain": [
       "<Figure size 432x288 with 1 Axes>"
      ]
     },
     "metadata": {},
     "output_type": "display_data"
    }
   ],
   "source": [
    "# Generate a pie plot showing the distribution of female versus male mice using pandas\n",
    "#pie_pd= pd.DataFrame({\"Sex\": (\"Male\", \"Female\"), \"Count\": sizes})\n",
    "#pie_pd.reset_index()\n",
    "#pie_pd.plot(kind=\"pie\", subplots= True)\n",
    "sizes =mouse_data[\"Sex\"].value_counts()\n",
    "sizes.plot(kind= \"pie\",autopct=\"%1.1f%%\", colors=colors, shadow=True, startangle=140)"
   ]
  },
  {
   "cell_type": "markdown",
   "metadata": {},
   "source": [
    "## Quartiles, outliers and boxplots"
   ]
  },
  {
   "cell_type": "code",
   "execution_count": 7,
   "metadata": {},
   "outputs": [
    {
     "data": {
      "text/html": [
       "<div>\n",
       "<style scoped>\n",
       "    .dataframe tbody tr th:only-of-type {\n",
       "        vertical-align: middle;\n",
       "    }\n",
       "\n",
       "    .dataframe tbody tr th {\n",
       "        vertical-align: top;\n",
       "    }\n",
       "\n",
       "    .dataframe thead th {\n",
       "        text-align: right;\n",
       "    }\n",
       "</style>\n",
       "<table border=\"1\" class=\"dataframe\">\n",
       "  <thead>\n",
       "    <tr style=\"text-align: right;\">\n",
       "      <th></th>\n",
       "      <th>Mouse ID</th>\n",
       "      <th>Regimen</th>\n",
       "      <th>Final Tumor Volume</th>\n",
       "    </tr>\n",
       "  </thead>\n",
       "  <tbody>\n",
       "    <tr>\n",
       "      <th>0</th>\n",
       "      <td>s185</td>\n",
       "      <td>Capomulin</td>\n",
       "      <td>23.343598</td>\n",
       "    </tr>\n",
       "    <tr>\n",
       "      <th>1</th>\n",
       "      <td>i557</td>\n",
       "      <td>Capomulin</td>\n",
       "      <td>47.685963</td>\n",
       "    </tr>\n",
       "    <tr>\n",
       "      <th>2</th>\n",
       "      <td>r944</td>\n",
       "      <td>Capomulin</td>\n",
       "      <td>41.581521</td>\n",
       "    </tr>\n",
       "    <tr>\n",
       "      <th>3</th>\n",
       "      <td>l509</td>\n",
       "      <td>Capomulin</td>\n",
       "      <td>41.483008</td>\n",
       "    </tr>\n",
       "    <tr>\n",
       "      <th>4</th>\n",
       "      <td>s710</td>\n",
       "      <td>Capomulin</td>\n",
       "      <td>40.728578</td>\n",
       "    </tr>\n",
       "    <tr>\n",
       "      <th>...</th>\n",
       "      <td>...</td>\n",
       "      <td>...</td>\n",
       "      <td>...</td>\n",
       "    </tr>\n",
       "    <tr>\n",
       "      <th>95</th>\n",
       "      <td>a444</td>\n",
       "      <td>Ramicane</td>\n",
       "      <td>43.047543</td>\n",
       "    </tr>\n",
       "    <tr>\n",
       "      <th>96</th>\n",
       "      <td>r921</td>\n",
       "      <td>Ramicane</td>\n",
       "      <td>43.419381</td>\n",
       "    </tr>\n",
       "    <tr>\n",
       "      <th>97</th>\n",
       "      <td>w678</td>\n",
       "      <td>Ramicane</td>\n",
       "      <td>43.166373</td>\n",
       "    </tr>\n",
       "    <tr>\n",
       "      <th>98</th>\n",
       "      <td>a520</td>\n",
       "      <td>Ramicane</td>\n",
       "      <td>38.810366</td>\n",
       "    </tr>\n",
       "    <tr>\n",
       "      <th>99</th>\n",
       "      <td>y449</td>\n",
       "      <td>Ramicane</td>\n",
       "      <td>44.183451</td>\n",
       "    </tr>\n",
       "  </tbody>\n",
       "</table>\n",
       "<p>100 rows × 3 columns</p>\n",
       "</div>"
      ],
      "text/plain": [
       "   Mouse ID    Regimen  Final Tumor Volume\n",
       "0      s185  Capomulin           23.343598\n",
       "1      i557  Capomulin           47.685963\n",
       "2      r944  Capomulin           41.581521\n",
       "3      l509  Capomulin           41.483008\n",
       "4      s710  Capomulin           40.728578\n",
       "..      ...        ...                 ...\n",
       "95     a444   Ramicane           43.047543\n",
       "96     r921   Ramicane           43.419381\n",
       "97     w678   Ramicane           43.166373\n",
       "98     a520   Ramicane           38.810366\n",
       "99     y449   Ramicane           44.183451\n",
       "\n",
       "[100 rows x 3 columns]"
      ]
     },
     "execution_count": 7,
     "metadata": {},
     "output_type": "execute_result"
    }
   ],
   "source": [
    "# Calculate the final tumor volume of each mouse across four of the most promising treatment regimens. \n",
    "\n",
    "new_mouse_data= mouse_data[[\"Mouse ID\", \"Drug Regimen\", \"Tumor Volume (mm3)\"]]\n",
    "\n",
    "prominent_regimens = [\"Capomulin\", \"Ramicane\", \"Infubinol\",\"Ceftamin\"]\n",
    "regi=[]\n",
    "ids=[]\n",
    "final_tumorvolume=[]\n",
    "\n",
    "for regimen in prominent_regimens:\n",
    "    data = new_mouse_data.loc[(new_mouse_data[\"Drug Regimen\"]==regimen)]\n",
    "    mouse_ids = data[\"Mouse ID\"].unique()\n",
    "    for mouse in mouse_ids:\n",
    "        data2= data.loc[(data[\"Mouse ID\"])==mouse]\n",
    "        regi.append(data2[\"Drug Regimen\"].iloc[-1])\n",
    "        ids.append(data2[\"Mouse ID\"].iloc[-1])\n",
    "        final_tumorvolume.append(data2[\"Tumor Volume (mm3)\"].iloc[-1])\n",
    "        \n",
    "final_volumes_pd= pd.DataFrame({\"Mouse ID\": ids, \"Regimen\": regi, \"Final Tumor Volume\": final_tumorvolume})\n",
    "final_volumes_pd=final_volumes_pd.sort_values([\"Regimen\"]).reset_index(drop=True)\n",
    "final_volumes_pd"
   ]
  },
  {
   "cell_type": "code",
   "execution_count": 8,
   "metadata": {},
   "outputs": [],
   "source": [
    "capomulin = final_volumes_pd.loc[(final_volumes_pd[\"Regimen\"]== \"Capomulin\")]\n",
    "ramicane = final_volumes_pd.loc[(final_volumes_pd[\"Regimen\"]== \"Ramicane\")]\n",
    "infubinol = final_volumes_pd.loc[(final_volumes_pd[\"Regimen\"]== \"Infubinol\")]\n",
    "ceftamin = final_volumes_pd.loc[(final_volumes_pd[\"Regimen\"]== \"Ceftamin\")]\n",
    "\n",
    "ceftamin.reset_index(drop=True)\n",
    "del ceftamin[\"Regimen\"]\n",
    "capomulin.reset_index(drop=True)\n",
    "del capomulin[\"Regimen\"]\n",
    "ramicane.reset_index(drop=True)\n",
    "del ramicane[\"Regimen\"]\n",
    "infubinol.reset_index(drop=True)\n",
    "del infubinol[\"Regimen\"]"
   ]
  },
  {
   "cell_type": "code",
   "execution_count": 9,
   "metadata": {},
   "outputs": [],
   "source": [
    "#Calculate the IQR and quantitatively determine if there are any potential outliers. \n",
    "quartiles_ce = ceftamin[\"Final Tumor Volume\"].quantile([.25,.5,.75])\n",
    "lowerq_ce = quartiles_ce[0.25]\n",
    "upperq_ce = quartiles_ce[0.75]\n",
    "iqr_ce = upperq_ce-lowerq_ce\n",
    "lowerbound_ce= lowerq_ce - (1.5*iqr_ce)\n",
    "upperbound_ce= upperq_ce + (1.5*iqr_ce)\n",
    "\n",
    "quartiles_ca = capomulin[\"Final Tumor Volume\"].quantile([.25,.5,.75])\n",
    "lowerq_ca = quartiles_ca[0.25]\n",
    "upperq_ca = quartiles_ca[0.75]\n",
    "iqr_ca = upperq_ca-lowerq_ca\n",
    "lowerbound_ca= lowerq_ca - (1.5*iqr_ca)\n",
    "upperbound_ca= upperq_ca + (1.5*iqr_ca)\n",
    "\n",
    "quartiles_ra = ramicane[\"Final Tumor Volume\"].quantile([.25,.5,.75])\n",
    "lowerq_ra = quartiles_ra[0.25]\n",
    "upperq_ra = quartiles_ra[0.75]\n",
    "iqr_ra = upperq_ra-lowerq_ra\n",
    "lowerbound_ra= lowerq_ra - (1.5*iqr_ra)\n",
    "upperbound_ra= upperq_ra + (1.5*iqr_ra)\n",
    "\n",
    "quartiles_in = infubinol[\"Final Tumor Volume\"].quantile([.25,.5,.75])\n",
    "lowerq_in = quartiles_in[0.25]\n",
    "upperq_in = quartiles_in[0.75]\n",
    "iqr_in = upperq_in-lowerq_in\n",
    "lowerbound_in= lowerq_in - (1.5*iqr_in)\n",
    "upperbound_in= upperq_in + (1.5*iqr_in)"
   ]
  },
  {
   "cell_type": "code",
   "execution_count": 10,
   "metadata": {},
   "outputs": [
    {
     "name": "stdout",
     "output_type": "stream",
     "text": [
      "Empty DataFrame\n",
      "Columns: [Mouse ID, Final Tumor Volume]\n",
      "Index: []\n",
      "Empty DataFrame\n",
      "Columns: [Mouse ID, Final Tumor Volume]\n",
      "Index: []\n",
      "Empty DataFrame\n",
      "Columns: [Mouse ID, Final Tumor Volume]\n",
      "Index: []\n",
      "   Mouse ID  Final Tumor Volume\n",
      "69     c326           36.321346\n"
     ]
    }
   ],
   "source": [
    "print(ceftamin[(ceftamin[\"Final Tumor Volume\"]<lowerbound_ce) | (ceftamin[\"Final Tumor Volume\"]> upperbound_ce)])\n",
    "print(capomulin[(capomulin[\"Final Tumor Volume\"]<lowerbound_ca) | (capomulin[\"Final Tumor Volume\"]> upperbound_ca)])\n",
    "print(ramicane[(ramicane[\"Final Tumor Volume\"]<lowerbound_ra) | (ramicane[\"Final Tumor Volume\"]> upperbound_ra)])\n",
    "print(infubinol[(infubinol[\"Final Tumor Volume\"]<lowerbound_in) | (infubinol[\"Final Tumor Volume\"]> upperbound_in)])"
   ]
  },
  {
   "cell_type": "code",
   "execution_count": 11,
   "metadata": {},
   "outputs": [
    {
     "data": {
      "image/png": "[encoded data removed]",
      "text/plain": [
       "<Figure size 432x288 with 1 Axes>"
      ]
     },
     "metadata": {
      "needs_background": "light"
     },
     "output_type": "display_data"
    }
   ],
   "source": [
    "# Generate a box plot of the final tumor volume of each mouse across four regimens of interest\n",
    "data7 = [capomulin[\"Final Tumor Volume\"],ramicane[\"Final Tumor Volume\"],infubinol[\"Final Tumor Volume\"],ceftamin[\"Final Tumor Volume\"]]\n",
    "fig1, ax = plt.subplots()\n",
    "ax.set_title(\"Prominent Regimen's Final Tumor Volumes\")\n",
    "ax.set_ylabel(\"Final Tumor Volume\")\n",
    "ax.set_xticklabels(prominent_regimens)\n",
    "#ax1.set_xticklabels(np.repeat(random_dists, 2), rotation=45, fontsize=8)\n",
    "ax.boxplot(data7)\n",
    "\n",
    "plt.show()\n"
   ]
  },
  {
   "cell_type": "markdown",
   "metadata": {},
   "source": [
    "## Line and scatter plots"
   ]
  },
  {
   "cell_type": "code",
   "execution_count": 16,
   "metadata": {},
   "outputs": [
    {
     "data": {
      "image/png": "[encoded data removed]",
      "text/plain": [
       "<Figure size 432x288 with 1 Axes>"
      ]
     },
     "metadata": {
      "needs_background": "light"
     },
     "output_type": "display_data"
    }
   ],
   "source": [
    "# Generate a line plot of time point versus tumor volume for a mouse treated with Capomulin\n",
    "data3= mouse_data[mouse_data[\"Mouse ID\"]==\"s185\"]\n",
    "x_axis= data3[\"Timepoint\"]\n",
    "y_axis= data3[\"Tumor Volume (mm3)\"]\n",
    "plt.plot(x_axis, y_axis)\n",
    "plt.xlabel(\"Time\")\n",
    "plt.ylabel(\"Tumor Volume\")\n",
    "plt.title(\"Tumor Volume Change over time for Capulin Regimen\")\n",
    "plt.show()\n",
    "\n"
   ]
  },
  {
   "cell_type": "code",
   "execution_count": 15,
   "metadata": {},
   "outputs": [
    {
     "data": {
      "image/png": "[encoded data removed]",
      "text/plain": [
       "<Figure size 432x288 with 1 Axes>"
      ]
     },
     "metadata": {
      "needs_background": "light"
     },
     "output_type": "display_data"
    }
   ],
   "source": [
    "# Generate a scatter plot of mouse weight versus average tumor volume for the Capomulin regimen\n",
    "# Calculate the correlation coefficient and linear regression model for mouse weight and average tumor volume for the Capomulin regimen\n",
    "data4= mouse_data[mouse_data[\"Drug Regimen\"]==\"Capomulin\"]\n",
    "x_axis= data4[\"Weight (g)\"].unique()\n",
    "y_axis=[]\n",
    "for weight in x_axis:\n",
    "    data5= data4.loc[data4[\"Weight (g)\"]== weight]\n",
    "    y_axis.append(data5[\"Tumor Volume (mm3)\"].mean())\n",
    "plt.scatter(x_axis, y_axis)\n",
    "plt.xlabel(\"Mouse Weight\")\n",
    "plt.ylabel(\"Average Tumor Volume\")\n",
    "plt.title(\"Tumor Volumes by mouse weights for Capulin Regimen\")\n",
    "correlation= st.pearsonr(x_axis,y_axis)\n",
    "(slope, intercept, rvalue, pvalue, stderr)= st.linregress(x_axis,y_axis)\n",
    "regres_values= x_axis*slope + intercept\n",
    "plt.plot(x_axis, regres_values)\n",
    "plt.show()"
   ]
  }
 ],
 "metadata": {
  "anaconda-cloud": {},
  "kernelspec": {
   "display_name": "Python 3",
   "language": "python",
   "name": "python3"
  },
  "language_info": {
   "codemirror_mode": {
    "name": "ipython",
    "version": 3
   },
   "file_extension": ".py",
   "mimetype": "text/x-python",
   "name": "python",
   "nbconvert_exporter": "python",
   "pygments_lexer": "ipython3",
   "version": "3.6.10"
  }
 },
 "nbformat": 4,
 "nbformat_minor": 2
}
